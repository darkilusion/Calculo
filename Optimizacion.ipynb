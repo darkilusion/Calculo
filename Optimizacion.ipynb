{
 "cells": [
  {
   "cell_type": "markdown",
   "metadata": {},
   "source": [
    "# Modulo N°2- Proyecto Abril \"Optimización\""
   ]
  },
  {
   "cell_type": "markdown",
   "metadata": {},
   "source": [
    "### Calculo Avanzado - Carlos Ritz - Juan Zúñiga"
   ]
  },
  {
   "cell_type": "markdown",
   "metadata": {},
   "source": [
    "Realizar un modelo es la representación de una problemática real, en donde se aplican todas las condiciones que deben cumplir para obtener los mejores resultados.\n",
    "Por lo cual en el desarrollo de la siguiente actividad utilizaremos algunos modelos matemáticos como lo son los modelos de weibull y Korsmeyer–Peppas, siendo este en primera instancia pensado para la optimización de una problemática para adjuntar un código correspondiente. "
   ]
  },
  {
   "cell_type": "markdown",
   "metadata": {},
   "source": [
    "Para la realizacion de la Optimización, se consideran dos modelos, primero esta el modelo de Weibull, y segundo el modelo de Korsmeyer-Peppas:"
   ]
  },
  {
   "cell_type": "markdown",
   "metadata": {},
   "source": [
    "Modelo de Weibull  -   $ u(t) = 1 - e^{-at} $"
   ]
  },
  {
   "cell_type": "markdown",
   "metadata": {},
   "source": [
    "Modelo de Korsmeyer-Peppas - $ u(t) = at^{b} $"
   ]
  },
  {
   "cell_type": "markdown",
   "metadata": {},
   "source": [
    "Donde tenemos la funcion costo, la cual mide la diferencia de los pronosticado por uno de los modelos a los datos experimentales, la cual es de la siguiente forma:"
   ]
  },
  {
   "cell_type": "markdown",
   "metadata": {},
   "source": [
    "$ \\sum_{i=1}^{n} (y(p_{i}, x_{i})- \\hat{y_i})^{2} $"
   ]
  },
  {
   "cell_type": "markdown",
   "metadata": {},
   "source": [
    "el cual usaremos para conocer la funcion costo de uno de los modelos, quedando de la siguiente manera:"
   ]
  },
  {
   "cell_type": "markdown",
   "metadata": {},
   "source": [
    "$ \\sum_{i=1}^{n} (u(t) -\\hat{y_i})^{2} $"
   ]
  },
  {
   "cell_type": "markdown",
   "metadata": {},
   "source": [
    "el cual utilizaremos unos datos para poder ilustrar la informacion:"
   ]
  },
  {
   "cell_type": "markdown",
   "metadata": {},
   "source": [
    "$ t_{i} $| 0.1 | 0.2 | 0.3 | 0.4 | 0.5 | 0.6 | 0.7 | 0.8 | 0.9 | 1.0|"
   ]
  },
  {
   "cell_type": "markdown",
   "metadata": {},
   "source": [
    "$ u_{i} $| 0.2 | 0.3 | 0.47 | 0.55 | 0.6 | 0.7 | 0.75 | 0.8 | 0.85 | 0.9 |"
   ]
  },
  {
   "cell_type": "markdown",
   "metadata": {},
   "source": [
    "### Implementacion:"
   ]
  },
  {
   "cell_type": "markdown",
   "metadata": {},
   "source": [
    "Para poder graficar usaremos la libreria Matplotlib, ademas de numpy y math."
   ]
  },
  {
   "cell_type": "code",
   "execution_count": 6,
   "metadata": {},
   "outputs": [],
   "source": [
    "import matplotlib.pyplot as plt\n",
    "import numpy as np\n",
    "import math"
   ]
  },
  {
   "cell_type": "markdown",
   "metadata": {},
   "source": [
    "Crearemos las funciones para los dos modelos."
   ]
  },
  {
   "cell_type": "code",
   "execution_count": 7,
   "metadata": {},
   "outputs": [],
   "source": [
    "def fun_Weibull(a,t):\n",
    "    w = 1-math.e**(-a*t)\n",
    "    return w\n",
    "\n",
    "def fun_KorsP(a,t):\n",
    "    h = a*(t**0.5)\n",
    "    return h"
   ]
  },
  {
   "cell_type": "markdown",
   "metadata": {},
   "source": [
    "Asignaremos los datos que uilizaremos con un rango de 10 datos."
   ]
  },
  {
   "cell_type": "code",
   "execution_count": 8,
   "metadata": {},
   "outputs": [],
   "source": [
    "t_i = np.linspace(0.1,1.0,10)\n",
    "u_i = [0.2,0.3,0.47,0.55,0.6,0.7,0.75,0.8,0.85,0.9]"
   ]
  },
  {
   "cell_type": "markdown",
   "metadata": {},
   "source": [
    "Realizaremos tanto los datos de la funcion para cada uno de los valores en los dos modelos."
   ]
  },
  {
   "cell_type": "code",
   "execution_count": 9,
   "metadata": {},
   "outputs": [],
   "source": [
    "wb = []\n",
    "hg = []\n",
    "for x in range(len(t_i)):\n",
    "    wb.append(fun_Weibull(u_i[x], t_i[x]))\n",
    "    hg.append(fun_KorsP(u_i[x], t_i[x]))"
   ]
  },
  {
   "cell_type": "markdown",
   "metadata": {},
   "source": [
    "Mostraremos los datos por pantalla."
   ]
  },
  {
   "cell_type": "code",
   "execution_count": 10,
   "metadata": {},
   "outputs": [
    {
     "name": "stdout",
     "output_type": "stream",
     "text": [
      "Datos de Weibull = [0.019801326693244747, 0.05823546641575128, 0.13151068830233215, 0.1974812020375215, 0.2591817793182821, 0.34295318018494314, 0.4084446356331849, 0.47270757595695145, 0.5346660690256866, 0.5934303402594009]\n",
      "\n",
      "Datos de Korsmeyer-Peppas=  [0.0632455532033676, 0.13416407864998736, 0.2574296020274281, 0.3478505426185218, 0.4242640687119285, 0.5422176684690383, 0.6274950199005567, 0.7155417527999327, 0.8063808033429367, 0.9]\n"
     ]
    }
   ],
   "source": [
    "print(\"Datos de Weibull =\",wb)\n",
    "print()\n",
    "print(\"Datos de Korsmeyer-Peppas= \",hg)"
   ]
  },
  {
   "cell_type": "markdown",
   "metadata": {},
   "source": [
    "Realizamos el grafico para el modelo de Weibull."
   ]
  },
  {
   "cell_type": "code",
   "execution_count": 11,
   "metadata": {},
   "outputs": [
    {
     "data": {
      "text/plain": [
       "<matplotlib.collections.PathCollection at 0x2175d246ac8>"
      ]
     },
     "execution_count": 11,
     "metadata": {},
     "output_type": "execute_result"
    },
    {
     "data": {
      "image/png": "[encoded data removed]",
      "text/plain": [
       "<Figure size 432x288 with 1 Axes>"
      ]
     },
     "metadata": {
      "needs_background": "light"
     },
     "output_type": "display_data"
    }
   ],
   "source": [
    "plt.figure(0)\n",
    "plt.title(\"Weibull\")\n",
    "plt.plot(t_i,u_i)\n",
    "plt.scatter(t_i,wb, color=\"green\")"
   ]
  },
  {
   "cell_type": "markdown",
   "metadata": {},
   "source": [
    "Y para el modelo de Korsmeyer-Peppas."
   ]
  },
  {
   "cell_type": "code",
   "execution_count": 12,
   "metadata": {},
   "outputs": [
    {
     "data": {
      "text/plain": [
       "<matplotlib.collections.PathCollection at 0x2175d304908>"
      ]
     },
     "execution_count": 12,
     "metadata": {},
     "output_type": "execute_result"
    },
    {
     "data": {
      "image/png": "[encoded data removed]",
      "text/plain": [
       "<Figure size 432x288 with 1 Axes>"
      ]
     },
     "metadata": {
      "needs_background": "light"
     },
     "output_type": "display_data"
    }
   ],
   "source": [
    "plt.figure(1)\n",
    "plt.title(\"Korsmeyer-Peppas\")\n",
    "plt.plot(t_i,u_i)\n",
    "plt.scatter(t_i,hg, color=\"green\")"
   ]
  },
  {
   "cell_type": "markdown",
   "metadata": {},
   "source": [
    "La funcion costo del modelo de  Korsmeyer-Peppas por la comparacion de los datos."
   ]
  },
  {
   "cell_type": "code",
   "execution_count": 13,
   "metadata": {},
   "outputs": [
    {
     "name": "stdout",
     "output_type": "stream",
     "text": [
      "Funcion costo =  0.21207559041781654\n"
     ]
    }
   ],
   "source": [
    "s = 0\n",
    "for i in range(len(u_i)):\n",
    "    s = s + ((hg[i] - u_i[i])**2)\n",
    "print(\"Funcion costo = \", s)"
   ]
  },
  {
   "cell_type": "code",
   "execution_count": null,
   "metadata": {},
   "outputs": [],
   "source": []
  }
 ],
 "metadata": {
  "kernelspec": {
   "display_name": "Python 3",
   "language": "python",
   "name": "python3"
  },
  "language_info": {
   "codemirror_mode": {
    "name": "ipython",
    "version": 3
   },
   "file_extension": ".py",
   "mimetype": "text/x-python",
   "name": "python",
   "nbconvert_exporter": "python",
   "pygments_lexer": "ipython3",
   "version": "3.7.6"
  }
 },
 "nbformat": 4,
 "nbformat_minor": 4
}
